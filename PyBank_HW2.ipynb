{
 "cells": [
  {
   "cell_type": "code",
   "execution_count": 3,
   "id": "bdb43ab6-9bfd-4303-9718-af7962377116",
   "metadata": {},
   "outputs": [],
   "source": [
    "import csv"
   ]
  },
  {
   "cell_type": "code",
   "execution_count": 12,
   "id": "ca31ae4d-dec5-4258-a456-f1653e78b30b",
   "metadata": {},
   "outputs": [
    {
     "name": "stdout",
     "output_type": "stream",
     "text": [
      "<_csv.reader object at 0x000001EB1AA05700>\n",
      "['Feb-2017', 671099]\n"
     ]
    }
   ],
   "source": [
    "with open('budget_data.csv', \"r\") as handler:\n",
    "    csv_data = csv.reader(handler)\n",
    "    print(csv_data)\n",
    "    count=0\n",
    "    total = 0\n",
    "    all_change = 0\n",
    "    prev_val = 0\n",
    "    max_profit = -99999999\n",
    "    min_profit = 99999999\n",
    "    max_profit_month = \"\"\n",
    "    min_profit_month = \"\"\n",
    "     \n",
    "\n",
    "    for row in csv_data:\n",
    "        count += 1\n",
    "        if count>1:\n",
    "            row[1] = int(row[1])\n",
    "\n",
    "            total += row[1]\n",
    "            if count>2:\n",
    "                change = row[1] - prev_val\n",
    "                all_change += change\n",
    "                if change > max_profit :\n",
    "                    max_profit = change\n",
    "                    max_profit_month = row[0]\n",
    "                    \n",
    "                if change < min_profit :\n",
    "                    min_profit = change\n",
    "                    min_profit_month = row[0]\n",
    "                    \n",
    "\n",
    "            prev_val = row[1]\n",
    "            \n",
    "            \n",
    "            \n",
    "print(row)\n",
    "count -=1\n",
    "avg_change = all_change/(count-1)"
   ]
  },
  {
   "cell_type": "code",
   "execution_count": 15,
   "id": "5c7a1be1-cd97-4378-8faa-9446365dc843",
   "metadata": {},
   "outputs": [
    {
     "name": "stdout",
     "output_type": "stream",
     "text": [
      "Financial Analysis\n",
      "----------------------------\n",
      "Total Months: 86\n",
      "Total: $38,382,578\n",
      "Average  Change: $-2,315.12\n",
      "Greatest Increase in Profits: Feb-2012 ($1,926,159.00)\n",
      "Greatest Decrease in Profits: Sep-2013 ($-2,196,167.00)\n",
      "\n"
     ]
    }
   ],
   "source": [
    "print(f'''Financial Analysis\n",
    "----------------------------\n",
    "Total Months: {count}\n",
    "Total: ${total:,.0f}\n",
    "Average  Change: ${avg_change:,.2f}\n",
    "Greatest Increase in Profits: {max_profit_month} (${max_profit:,.2f})\n",
    "Greatest Decrease in Profits: {min_profit_month} (${min_profit:,.2f})\n",
    "''')"
   ]
  },
  {
   "cell_type": "code",
   "execution_count": 18,
   "id": "30adabe2-2619-4271-8960-f35bb29f4195",
   "metadata": {},
   "outputs": [],
   "source": [
    "# Set output file name\n",
    "output_path = 'output.txt'\n",
    "# Open the output path as a file object\n",
    "with open(output_path, 'w') as file:      \n",
    "\n",
    "    file.write(f'''Financial Analysis\n",
    "----------------------------\n",
    "Total Months: {count}\n",
    "Total: ${total:,.0f}\n",
    "Average  Change: ${avg_change:,.2f}\n",
    "Greatest Increase in Profits: {max_profit_month} (${max_profit:,.2f})\n",
    "Greatest Decrease in Profits: {min_profit_month} (${min_profit:,.2f})\n",
    "''')"
   ]
  },
  {
   "cell_type": "code",
   "execution_count": null,
   "id": "729aff12-0ce1-4da2-a830-d5de1323080b",
   "metadata": {},
   "outputs": [],
   "source": []
  },
  {
   "cell_type": "code",
   "execution_count": null,
   "id": "c6436798-2209-4de9-aedb-bad38e1699e6",
   "metadata": {},
   "outputs": [],
   "source": []
  }
 ],
 "metadata": {
  "kernelspec": {
   "display_name": "Python 3",
   "language": "python",
   "name": "python3"
  },
  "language_info": {
   "codemirror_mode": {
    "name": "ipython",
    "version": 3
   },
   "file_extension": ".py",
   "mimetype": "text/x-python",
   "name": "python",
   "nbconvert_exporter": "python",
   "pygments_lexer": "ipython3",
   "version": "3.8.8"
  }
 },
 "nbformat": 4,
 "nbformat_minor": 5
}
